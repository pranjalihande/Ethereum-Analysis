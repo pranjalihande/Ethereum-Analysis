{
 "cells": [
  {
   "cell_type": "code",
   "execution_count": null,
   "id": "b089fdcb-7a5e-4792-9414-ac0dba684707",
   "metadata": {
    "tags": []
   },
   "outputs": [],
   "source": [
    "import json\n",
    "import pandas as pd\n",
    "\n",
    "# Read JSON file\n",
    "inputfile = open('./scams.json')\n",
    "json_data = json.load(inputfile)\n",
    " \n",
    "# Convert JSON data to Pandas Dataframe\n",
    "df_scams = pd.DataFrame(columns=['Address','Id','Cat','Status'])\n",
    "keys = json_data[\"result\"]\n",
    "\n",
    "# Check for all the records in JSON\n",
    "for i in keys:\n",
    "    record = json_data[\"result\"][i]\n",
    "    \n",
    "    addresses = record[\"addresses\"]\n",
    "    Id = record[\"id\"]\n",
    "    category = record[\"category\"]\n",
    "    status = record[\"status\"]\n",
    "    for address in addresses:\n",
    "        df_scams.loc[len(df_scams)] = [address,Id,category, status,]\n",
    "\n",
    "df_scams.to_csv('./scams.csv', index=False)"
   ]
  },
  {
   "cell_type": "code",
   "execution_count": null,
   "id": "56b0db95-b352-46c7-ab63-1ea1c382754e",
   "metadata": {},
   "outputs": [],
   "source": []
  }
 ],
 "metadata": {
  "kernelspec": {
   "display_name": "Python 3 (ipykernel)",
   "language": "python",
   "name": "python3"
  },
  "language_info": {
   "codemirror_mode": {
    "name": "ipython",
    "version": 3
   },
   "file_extension": ".py",
   "mimetype": "text/x-python",
   "name": "python",
   "nbconvert_exporter": "python",
   "pygments_lexer": "ipython3",
   "version": "3.10.6"
  }
 },
 "nbformat": 4,
 "nbformat_minor": 5
}
